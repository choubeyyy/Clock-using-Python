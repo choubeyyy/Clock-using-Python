{
 "cells": [
  {
   "cell_type": "code",
   "execution_count": 2,
   "id": "a5055095",
   "metadata": {},
   "outputs": [],
   "source": [
    "from tkinter import * #importing all the modules of tkinter library\n",
    "from tkinter.ttk import * #importing all the modules of tkinter.ttk library\n",
    "from time import strftime #importing strftime modules of time library\n",
    "root = Tk()\n",
    "\n",
    "root.title('Clock')\n",
    "\n",
    "def time():\n",
    "    string = strftime('%H:%M:%S %p')\n",
    "    label.config(text=string)\n",
    "    label.after(1000, time)\n",
    "    \n",
    "label = Label(root, font=(\"ds-digital\", 80), background = \"black\", foreground= \"cyan\")\n",
    "label.pack(anchor='center')\n",
    "\n",
    "time()\n",
    "\n",
    "mainloop()"
   ]
  },
  {
   "cell_type": "code",
   "execution_count": null,
   "id": "5bf9e795",
   "metadata": {},
   "outputs": [],
   "source": []
  }
 ],
 "metadata": {
  "kernelspec": {
   "display_name": "Python 3 (ipykernel)",
   "language": "python",
   "name": "python3"
  },
  "language_info": {
   "codemirror_mode": {
    "name": "ipython",
    "version": 3
   },
   "file_extension": ".py",
   "mimetype": "text/x-python",
   "name": "python",
   "nbconvert_exporter": "python",
   "pygments_lexer": "ipython3",
   "version": "3.10.11"
  }
 },
 "nbformat": 4,
 "nbformat_minor": 5
}
